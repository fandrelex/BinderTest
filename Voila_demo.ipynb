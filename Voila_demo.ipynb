{
 "cells": [
  {
   "cell_type": "markdown",
   "id": "017faf9b",
   "metadata": {},
   "source": [
    "# Titel: Voila Demo"
   ]
  },
  {
   "cell_type": "code",
   "execution_count": 1,
   "id": "f84e41cc",
   "metadata": {},
   "outputs": [
    {
     "data": {
      "application/vnd.jupyter.widget-view+json": {
       "model_id": "3c25852f01ad4ec39bf962b63d692430",
       "version_major": 2,
       "version_minor": 0
      },
      "text/plain": [
       "Text(value='Text eingeben', description='Text-Widget: ')"
      ]
     },
     "metadata": {},
     "output_type": "display_data"
    },
    {
     "data": {
      "application/vnd.jupyter.widget-view+json": {
       "model_id": "08c75834404a4bc79ebb14ae57044fb3",
       "version_major": 2,
       "version_minor": 0
      },
      "text/plain": [
       "IntSlider(value=7, description='IntSlider: ', max=10)"
      ]
     },
     "metadata": {},
     "output_type": "display_data"
    },
    {
     "data": {
      "application/vnd.jupyter.widget-view+json": {
       "model_id": "f68983803a7b4cacb972b186539c279f",
       "version_major": 2,
       "version_minor": 0
      },
      "text/plain": [
       "Dropdown(description='Dropdown: ', index=1, options=('1', '2', '3'), value='2')"
      ]
     },
     "metadata": {},
     "output_type": "display_data"
    }
   ],
   "source": [
    "from ipywidgets import Text, IntSlider, Dropdown\n",
    "# Erstelle ein neues Text-Eingabefeld tb1 und zeige es an.\n",
    "tb1 = Text(value='Text eingeben', \n",
    "                   description='Text-Widget: ')\n",
    "display(tb1)\n",
    "# Erstelle IntSlider-Widget is1 und zeige es an.\n",
    "is1 = IntSlider(value=7, min=0, max=10, \n",
    "                        step=1, description='IntSlider: ')\n",
    "display(is1)\n",
    "# Erstelle Dropdown-Widget dd1 und zeige es an\n",
    "dd1 = Dropdown(options=['1', '2', '3'], \n",
    "                       value='2', description='Dropdown: ')\n",
    "display(dd1) "
   ]
  }
 ],
 "metadata": {
  "kernelspec": {
   "display_name": "Python 3 (ipykernel)",
   "language": "python",
   "name": "python3"
  },
  "language_info": {
   "codemirror_mode": {
    "name": "ipython",
    "version": 3
   },
   "file_extension": ".py",
   "mimetype": "text/x-python",
   "name": "python",
   "nbconvert_exporter": "python",
   "pygments_lexer": "ipython3",
   "version": "3.10.6"
  }
 },
 "nbformat": 4,
 "nbformat_minor": 5
}
